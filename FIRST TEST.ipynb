{
 "cells": [
  {
   "cell_type": "code",
   "execution_count": 1,
   "metadata": {},
   "outputs": [],
   "source": [
    "# if the imports below don't work, specifically for pynmea2\n",
    "# run this line first: pip install pynmea2"
   ]
  },
  {
   "cell_type": "code",
   "execution_count": 2,
   "metadata": {},
   "outputs": [],
   "source": [
    "## LIBRARIES\n",
    "import pynmea2\n",
    "import os\n",
    "import pandas as pd\n",
    "import matplotlib.pyplot as plt\n",
    "import csv"
   ]
  },
  {
   "cell_type": "code",
   "execution_count": null,
   "metadata": {},
   "outputs": [],
   "source": [
    "## STEP 1: find your working directory is\n",
    "pwd\n",
    "\n",
    "#STEP 2: download the file.log and move it to the working directory\n",
    "file = open('FILE.log', encoding='utf-8')"
   ]
  },
  {
   "cell_type": "code",
   "execution_count": null,
   "metadata": {},
   "outputs": [],
   "source": [
    "## THIS IS TO READ IN THE TEXT FILE AND OBSERVE WHAT IS INSIDE\n",
    "location = 'INSERT PWD'\n",
    "for filename in os.listdir(location):\n",
    "    if filename == 'FILE.log':\n",
    "       f  = open(os.path.join(location, 'FILE.log'), \"r\")\n",
    "       print (f.read())"
   ]
  },
  {
   "cell_type": "code",
   "execution_count": null,
   "metadata": {},
   "outputs": [],
   "source": [
    "## THIS CONVERTS YOUR TEXT FILE INTO A .CSV FILE \n",
    "read_file = pd.read_csv (r\"C:\\\\PATH\\\\FIRST.log\", delimiter = ',')\n",
    "read_file.to_csv (r\"C:\\\\PATH\\\\FILE.csv\")"
   ]
  },
  {
   "cell_type": "code",
   "execution_count": null,
   "metadata": {},
   "outputs": [],
   "source": [
    "## THIS SHOWS YOU THE OUTPUT OF THE CSV FILE\n",
    "f1 = pd.read_csv(\"C:\\\\PATH\\\\FILE.csv\", header = None)\n",
    "f1"
   ]
  }
 ],
 "metadata": {
  "kernelspec": {
   "display_name": "Python 3",
   "language": "python",
   "name": "python3"
  },
  "language_info": {
   "codemirror_mode": {
    "name": "ipython",
    "version": 3
   },
   "file_extension": ".py",
   "mimetype": "text/x-python",
   "name": "python",
   "nbconvert_exporter": "python",
   "pygments_lexer": "ipython3",
   "version": "3.7.3"
  }
 },
 "nbformat": 4,
 "nbformat_minor": 2
}
